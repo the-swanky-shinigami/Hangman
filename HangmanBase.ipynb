{
  "nbformat": 4,
  "nbformat_minor": 0,
  "metadata": {
    "colab": {
      "provenance": []
    },
    "kernelspec": {
      "name": "python3",
      "display_name": "Python 3"
    },
    "language_info": {
      "name": "python"
    }
  },
  "cells": [
    {
      "cell_type": "code",
      "source": [
        "import random\n",
        "import re\n",
        "import time\n",
        "import collections"
      ],
      "metadata": {
        "id": "LhRiH9pHF0Cp"
      },
      "execution_count": null,
      "outputs": []
    },
    {
      "cell_type": "code",
      "execution_count": null,
      "metadata": {
        "id": "ck4A_uVmFvN1"
      },
      "outputs": [],
      "source": [
        "class HangmanOffline(object):\n",
        "    def __init__(self):\n",
        "        self.full_dictionary = self.build_dictionary(\"RandomWords.txt\")\n",
        "        self.guessed_letters = []\n",
        "        self.full_dictionary_common_letter_sorted = collections.Counter(\"\".join(self.full_dictionary)).most_common()\n",
        "        self.current_dictionary = []\n",
        "\n",
        "    def guess(self, word):\n",
        "        clean_word = word.replace(\"_\", \".\")\n",
        "        len_word = len(clean_word)\n",
        "        current_dictionary = self.current_dictionary\n",
        "        new_dictionary = []\n",
        "\n",
        "        for dict_word in current_dictionary:\n",
        "            if len(dict_word) != len_word:\n",
        "                continue\n",
        "            if re.match(clean_word, dict_word):\n",
        "                new_dictionary.append(dict_word)\n",
        "\n",
        "        self.current_dictionary = new_dictionary\n",
        "\n",
        "        full_dict_string = \"\".join(new_dictionary)\n",
        "        c = collections.Counter(full_dict_string)\n",
        "        sorted_letter_count = c.most_common()\n",
        "\n",
        "        guess_letter = '!'\n",
        "        for letter, instance_count in sorted_letter_count:\n",
        "            if letter not in self.guessed_letters:\n",
        "                guess_letter = letter\n",
        "                break\n",
        "\n",
        "        if guess_letter == '!':\n",
        "            sorted_letter_count = self.full_dictionary_common_letter_sorted\n",
        "            for letter, instance_count in sorted_letter_count:\n",
        "                if letter not in self.guessed_letters:\n",
        "                    guess_letter = letter\n",
        "                    break\n",
        "\n",
        "        return guess_letter\n",
        "\n",
        "    def build_dictionary(self, dictionary_file_location):\n",
        "        with open(dictionary_file_location, \"r\") as text_file:\n",
        "            full_dictionary = text_file.read().splitlines()\n",
        "        return full_dictionary\n",
        "\n",
        "    def start_game(self, verbose=True):\n",
        "        self.guessed_letters = []\n",
        "        self.current_dictionary = self.full_dictionary\n",
        "\n",
        "        word = random.choice(self.full_dictionary)\n",
        "        hidden_word = '-' * len(word)\n",
        "        tries_remains = 6  # Adjusted to match the online version\n",
        "\n",
        "        game_id = ''.join(random.choices('0123456789abcdef', k=12))  # Generate a random game ID\n",
        "\n",
        "        if verbose:\n",
        "            print(f\"Successfully start a new game! Game ID: {game_id}. # of tries remaining: {tries_remains}. Word: {hidden_word}.\")\n",
        "\n",
        "        while tries_remains > 0:\n",
        "            guess_letter = self.guess(hidden_word)\n",
        "\n",
        "            if guess_letter is None:\n",
        "                # No possible guess. Fall back to original logic.\n",
        "                guess_letter = self.original_guess()\n",
        "\n",
        "            self.guessed_letters.append(guess_letter)\n",
        "\n",
        "            if verbose:\n",
        "                print(f\"Guessing letter: {guess_letter}\")\n",
        "\n",
        "            if guess_letter in word:\n",
        "                new_hidden_word = ''\n",
        "                for i, letter in enumerate(word):\n",
        "                    if letter == guess_letter:\n",
        "                        new_hidden_word += letter\n",
        "                    else:\n",
        "                        new_hidden_word += hidden_word[i]\n",
        "\n",
        "                if new_hidden_word == word:\n",
        "                    if verbose:\n",
        "                        print(f\"Word: {new_hidden_word}\")\n",
        "                        print(f\"Congratulations! You won!\")\n",
        "                    return True\n",
        "\n",
        "                hidden_word = new_hidden_word\n",
        "                if verbose:\n",
        "                    print(f\"Word: {hidden_word}\")\n",
        "\n",
        "            else:\n",
        "                tries_remains -= 1\n",
        "                if verbose:\n",
        "                    print(f\"Wrong attempt! Word: {hidden_word} Tries remaining: {tries_remains}\")\n",
        "                if tries_remains == 0:\n",
        "                    if verbose:\n",
        "                        print(f\"Failed game: {game_id}. Because of: # of tries exceeded!\")\n",
        "                    return False\n"
      ]
    },
    {
      "cell_type": "code",
      "source": [
        "hangman_game = HangmanOffline()\n",
        "hangman_game.start_game(practice=True, verbose=True)"
      ],
      "metadata": {
        "id": "5o8TR7qYGccO"
      },
      "execution_count": null,
      "outputs": []
    }
  ]
}